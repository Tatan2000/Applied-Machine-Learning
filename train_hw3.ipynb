{
 "cells": [
  {
   "cell_type": "code",
   "execution_count": 5,
   "id": "8ba83aaf",
   "metadata": {},
   "outputs": [],
   "source": [
    "import pandas as pd\n",
    "import sklearn\n",
    "import pickle\n",
    "import numpy as np\n",
    "from sklearn.feature_extraction.text import TfidfVectorizer\n",
    "from sklearn.linear_model import LogisticRegression\n",
    "from sklearn.ensemble import RandomForestClassifier\n",
    "from sklearn.svm import SVC\n",
    "from sklearn.metrics import classification_report,  accuracy_score\n",
    "from sklearn.model_selection import train_test_split \n",
    "from sklearn.metrics import classification_report,confusion_matrix,accuracy_score,average_precision_score, precision_recall_curve,auc\n",
    "from sklearn.model_selection import train_test_split\n",
    "import keras\n",
    "from keras.preprocessing import text, sequence\n",
    "from keras.models import Sequential\n",
    "from keras.layers import Dense,Embedding,LSTM,Dropout\n",
    "from keras.utils import pad_sequences\n",
    "import tensorflow as tf"
   ]
  },
  {
   "cell_type": "code",
   "execution_count": 6,
   "id": "680121db",
   "metadata": {},
   "outputs": [],
   "source": [
    "import os\n",
    "import warnings\n",
    "import sys\n",
    "\n",
    "import pandas as pd\n",
    "import numpy as np\n",
    "from sklearn.metrics import mean_squared_error, mean_absolute_error, r2_score\n",
    "from sklearn.model_selection import train_test_split\n",
    "from sklearn.linear_model import ElasticNet\n",
    "from urllib.parse import urlparse\n",
    "import mlflow\n",
    "import mlflow.sklearn\n",
    "\n",
    "import logging\n",
    "\n",
    "logging.basicConfig(level=logging.WARN)\n",
    "logger = logging.getLogger(__name__)\n",
    "\n",
    "\n",
    "def evaluation_metric(actual, pred):\n",
    "    precision, recall, thresholds = precision_recall_curve(actual, pred)\n",
    "    auc_precision_recall = auc(recall, precision)\n",
    "    return (auc_precision_recall)"
   ]
  },
  {
   "cell_type": "code",
   "execution_count": 8,
   "id": "5e834bd9",
   "metadata": {},
   "outputs": [],
   "source": [
    "#Loading the training, validation and testing data\n",
    "train=pd.read_csv(\"train.csv\")\n",
    "validation=pd.read_csv(\"validation.csv\")\n",
    "test=pd.read_csv(\"test.csv\")"
   ]
  },
  {
   "cell_type": "code",
   "execution_count": 9,
   "id": "f80d7918",
   "metadata": {},
   "outputs": [],
   "source": [
    "y_train,X_train=train[\"label\"],train[\"message\"]\n",
    "y_val,X_val=validation[\"label\"],vaidationl[\"message\"]\n",
    "y_test,X_test=validation[\"label\"],validation[\"message\"]"
   ]
  },
  {
   "cell_type": "markdown",
   "id": "03fc49c4",
   "metadata": {},
   "source": [
    "# Random Forest"
   ]
  },
  {
   "cell_type": "code",
   "execution_count": 10,
   "id": "55d2327b",
   "metadata": {},
   "outputs": [],
   "source": [
    "#Using TfidfVectorizer with 600 features\n",
    "tfidf=TfidfVectorizer(max_features=600)\n",
    "encd_X_train=tfidf.fit_transform(X_train)"
   ]
  },
  {
   "cell_type": "code",
   "execution_count": 11,
   "id": "8d326bb1",
   "metadata": {},
   "outputs": [],
   "source": [
    "encd_X_val=tfidf.fit_transform(X_val)"
   ]
  },
  {
   "cell_type": "code",
   "execution_count": 12,
   "id": "791952ed",
   "metadata": {},
   "outputs": [],
   "source": [
    "encd_X_test=tfidf.fit_transform(X_test)"
   ]
  },
  {
   "cell_type": "code",
   "execution_count": 13,
   "id": "24da335a",
   "metadata": {},
   "outputs": [],
   "source": [
    "y_train=y_train.replace(\"spam\",1)\n",
    "y_train=y_train.replace(\"ham\",0)"
   ]
  },
  {
   "cell_type": "code",
   "execution_count": 14,
   "id": "258e64e5",
   "metadata": {},
   "outputs": [],
   "source": [
    "y_val=y_val.replace(\"spam\",1)\n",
    "y_val=y_val.replace(\"ham\",0)"
   ]
  },
  {
   "cell_type": "code",
   "execution_count": 15,
   "id": "7df9e5e5",
   "metadata": {},
   "outputs": [],
   "source": [
    "y_test=y_test.replace(\"spam\",1)\n",
    "y_test=y_test.replace(\"ham\",0)"
   ]
  },
  {
   "cell_type": "code",
   "execution_count": 19,
   "id": "aaece149",
   "metadata": {},
   "outputs": [
    {
     "name": "stdout",
     "output_type": "stream",
     "text": [
      "  AUPCR: 0.5639952153110048\n"
     ]
    },
    {
     "name": "stderr",
     "output_type": "stream",
     "text": [
      "Registered model 'RandomForestModel' already exists. Creating a new version of this model...\n",
      "2023/05/01 10:26:49 INFO mlflow.tracking._model_registry.client: Waiting up to 300 seconds for model version to finish creation. Model name: RandomForestModel, version 2\n",
      "Created version '2' of model 'RandomForestModel'.\n"
     ]
    }
   ],
   "source": [
    "#Number of estimators\n",
    "n=500\n",
    "\n",
    "#Depth\n",
    "depth=7\n",
    "\n",
    "filename=\"rndmsrst.pkl\"\n",
    "\n",
    "with mlflow.start_run():\n",
    "        rndmfrst = RandomForestClassifier(n_estimators=n,max_depth=depth, random_state=1)\n",
    "\n",
    "        rndmfrst.fit(encd_X_train,y_train)\n",
    "\n",
    "        pickle.dump(rndmfrst,open(filename,\"wb\"))\n",
    "\n",
    "        y_pred=rndmfrst.predict(encd_X_test)\n",
    "\n",
    "\n",
    "        res = evaluation_metric(y_test, y_pred)\n",
    "\n",
    "        print(\"  AUPCR: %s\" % res)\n",
    "        mlflow.log_param(\"n_estimators\", n)\n",
    "        mlflow.log_param(\"max_depth\", depth)\n",
    "        mlflow.log_metric(\"aupcr\", res)\n",
    "        tracking_url_type_store = urlparse(mlflow.get_tracking_uri()).scheme\n",
    "\n",
    "        mlflow.sklearn.log_model(rndmfrst, \"model\", registered_model_name=\"RandomForestModel\")"
   ]
  },
  {
   "cell_type": "code",
   "execution_count": 20,
   "id": "4a73fb6f",
   "metadata": {},
   "outputs": [
    {
     "data": {
      "text/plain": [
       "<ModelVersion: aliases=[], creation_timestamp=1682916696790, current_stage='None', description=None, last_updated_timestamp=1682916696790, name='RandomForestModel', run_id='daa5b65f04bb447cac3f9efaaa5fd636', run_link=None, source='file:///E:/Assigments/MSc%20Semester%202/AML%20-%20Raghav/Programming%20assignment%203/mlruns/0/daa5b65f04bb447cac3f9efaaa5fd636/artifacts/model', status='READY', status_message=None, tags={}, user_id=None, version=1>"
      ]
     },
     "execution_count": 20,
     "metadata": {},
     "output_type": "execute_result"
    }
   ],
   "source": [
    "mlflow.tracking.MlflowClient().get_model_version(\"RandomForestModel\",\"1\")"
   ]
  },
  {
   "cell_type": "markdown",
   "id": "4bc4a845",
   "metadata": {},
   "source": [
    "# Logistic Regression\n"
   ]
  },
  {
   "cell_type": "code",
   "execution_count": 18,
   "id": "4b58bb9b",
   "metadata": {},
   "outputs": [
    {
     "data": {
      "application/vnd.jupyter.widget-view+json": {
       "model_id": "07e565ae3cad452180a6761dad0a5d5b",
       "version_major": 2,
       "version_minor": 0
      },
      "text/plain": [
       "Downloading (…)a8e1d/.gitattributes:   0%|          | 0.00/1.18k [00:00<?, ?B/s]"
      ]
     },
     "metadata": {},
     "output_type": "display_data"
    },
    {
     "data": {
      "application/vnd.jupyter.widget-view+json": {
       "model_id": "67f8fb2f184d49f7884c496cfa6f6a2f",
       "version_major": 2,
       "version_minor": 0
      },
      "text/plain": [
       "Downloading (…)_Pooling/config.json:   0%|          | 0.00/190 [00:00<?, ?B/s]"
      ]
     },
     "metadata": {},
     "output_type": "display_data"
    },
    {
     "data": {
      "application/vnd.jupyter.widget-view+json": {
       "model_id": "68d9e8e9b1384b429c23265341fde2fa",
       "version_major": 2,
       "version_minor": 0
      },
      "text/plain": [
       "Downloading (…)b20bca8e1d/README.md:   0%|          | 0.00/10.6k [00:00<?, ?B/s]"
      ]
     },
     "metadata": {},
     "output_type": "display_data"
    },
    {
     "data": {
      "application/vnd.jupyter.widget-view+json": {
       "model_id": "a7900723ad3042d394c7a98488aded3c",
       "version_major": 2,
       "version_minor": 0
      },
      "text/plain": [
       "Downloading (…)0bca8e1d/config.json:   0%|          | 0.00/571 [00:00<?, ?B/s]"
      ]
     },
     "metadata": {},
     "output_type": "display_data"
    },
    {
     "data": {
      "application/vnd.jupyter.widget-view+json": {
       "model_id": "669ba136238e4666aab23be3b0a78bff",
       "version_major": 2,
       "version_minor": 0
      },
      "text/plain": [
       "Downloading (…)ce_transformers.json:   0%|          | 0.00/116 [00:00<?, ?B/s]"
      ]
     },
     "metadata": {},
     "output_type": "display_data"
    },
    {
     "data": {
      "application/vnd.jupyter.widget-view+json": {
       "model_id": "d698c2c2c3f3450783316163978954f5",
       "version_major": 2,
       "version_minor": 0
      },
      "text/plain": [
       "Downloading (…)e1d/data_config.json:   0%|          | 0.00/39.3k [00:00<?, ?B/s]"
      ]
     },
     "metadata": {},
     "output_type": "display_data"
    },
    {
     "data": {
      "application/vnd.jupyter.widget-view+json": {
       "model_id": "a7bde0d2c0fd4512b7d9185c48718677",
       "version_major": 2,
       "version_minor": 0
      },
      "text/plain": [
       "Downloading pytorch_model.bin:   0%|          | 0.00/438M [00:00<?, ?B/s]"
      ]
     },
     "metadata": {},
     "output_type": "display_data"
    },
    {
     "data": {
      "application/vnd.jupyter.widget-view+json": {
       "model_id": "b1800a70f54f49c9a86275c11e1bc9f3",
       "version_major": 2,
       "version_minor": 0
      },
      "text/plain": [
       "Downloading (…)nce_bert_config.json:   0%|          | 0.00/53.0 [00:00<?, ?B/s]"
      ]
     },
     "metadata": {},
     "output_type": "display_data"
    },
    {
     "data": {
      "application/vnd.jupyter.widget-view+json": {
       "model_id": "0bc8afb407b1476c89b46973bfd94355",
       "version_major": 2,
       "version_minor": 0
      },
      "text/plain": [
       "Downloading (…)cial_tokens_map.json:   0%|          | 0.00/239 [00:00<?, ?B/s]"
      ]
     },
     "metadata": {},
     "output_type": "display_data"
    },
    {
     "data": {
      "application/vnd.jupyter.widget-view+json": {
       "model_id": "5396358ae9424ae5a07d512d77c19118",
       "version_major": 2,
       "version_minor": 0
      },
      "text/plain": [
       "Downloading (…)a8e1d/tokenizer.json:   0%|          | 0.00/466k [00:00<?, ?B/s]"
      ]
     },
     "metadata": {},
     "output_type": "display_data"
    },
    {
     "data": {
      "application/vnd.jupyter.widget-view+json": {
       "model_id": "cad109f0cb134ed8ad7fe6bff239b4a3",
       "version_major": 2,
       "version_minor": 0
      },
      "text/plain": [
       "Downloading (…)okenizer_config.json:   0%|          | 0.00/363 [00:00<?, ?B/s]"
      ]
     },
     "metadata": {},
     "output_type": "display_data"
    },
    {
     "data": {
      "application/vnd.jupyter.widget-view+json": {
       "model_id": "591e58600ba448198e04bcd9c147e8b8",
       "version_major": 2,
       "version_minor": 0
      },
      "text/plain": [
       "Downloading (…)8e1d/train_script.py:   0%|          | 0.00/13.1k [00:00<?, ?B/s]"
      ]
     },
     "metadata": {},
     "output_type": "display_data"
    },
    {
     "data": {
      "application/vnd.jupyter.widget-view+json": {
       "model_id": "c80533c02293466e98193d875b9e01cf",
       "version_major": 2,
       "version_minor": 0
      },
      "text/plain": [
       "Downloading (…)b20bca8e1d/vocab.txt:   0%|          | 0.00/232k [00:00<?, ?B/s]"
      ]
     },
     "metadata": {},
     "output_type": "display_data"
    },
    {
     "data": {
      "application/vnd.jupyter.widget-view+json": {
       "model_id": "f41031ead3f64e40a531050f8f9b0829",
       "version_major": 2,
       "version_minor": 0
      },
      "text/plain": [
       "Downloading (…)bca8e1d/modules.json:   0%|          | 0.00/349 [00:00<?, ?B/s]"
      ]
     },
     "metadata": {},
     "output_type": "display_data"
    }
   ],
   "source": [
    "from sentence_transformers import SentenceTransformer\n",
    "\n",
    "#Pre-trained model to evaluate the embeddings of the text data\n",
    "model = SentenceTransformer('all-mpnet-base-v2')"
   ]
  },
  {
   "cell_type": "code",
   "execution_count": 21,
   "id": "a48ef92f",
   "metadata": {},
   "outputs": [],
   "source": [
    "_,X_train=train[\"label\"],train[\"message\"]\n",
    "_,X_val=validation[\"label\"],validation[\"message\"]\n",
    "_,X_test=validation[\"label\"],validation[\"message\"]"
   ]
  },
  {
   "cell_type": "code",
   "execution_count": 22,
   "id": "1cfb4008",
   "metadata": {},
   "outputs": [],
   "source": [
    "embedded_X_train=model.encode(X_train)\n",
    "embedded_X_test=model.encode(X_test)"
   ]
  },
  {
   "cell_type": "code",
   "execution_count": 23,
   "id": "11a49aed",
   "metadata": {},
   "outputs": [],
   "source": [
    "max_iters=1000"
   ]
  },
  {
   "cell_type": "code",
   "execution_count": 24,
   "id": "5930cbd3",
   "metadata": {},
   "outputs": [],
   "source": [
    "filename=\"logreg.pkl\""
   ]
  },
  {
   "cell_type": "code",
   "execution_count": 25,
   "id": "124d1ef6",
   "metadata": {},
   "outputs": [
    {
     "name": "stdout",
     "output_type": "stream",
     "text": [
      "  AUPCR: 0.9407929887871673\n"
     ]
    },
    {
     "name": "stderr",
     "output_type": "stream",
     "text": [
      "Successfully registered model 'LogisticRegTransformers'.\n",
      "2023/05/01 10:40:34 INFO mlflow.tracking._model_registry.client: Waiting up to 300 seconds for model version to finish creation. Model name: LogisticRegTransformers, version 1\n",
      "Created version '1' of model 'LogisticRegTransformers'.\n"
     ]
    }
   ],
   "source": [
    "with mlflow.start_run():\n",
    "        logreg = LogisticRegression(max_iter=max_iters, random_state=1)\n",
    "\n",
    "        logreg.fit(embedded_X_train,y_train)\n",
    "\n",
    "        pickle.dump(logreg,open(filename,\"wb\"))\n",
    "\n",
    "        y_pred=logreg.predict(embedded_X_test)\n",
    "\n",
    "\n",
    "        res = evaluation_metric(y_test, y_pred)\n",
    "\n",
    "        print(\"  AUPCR: %s\" % res)\n",
    "        mlflow.log_param(\"max_iter\", n)\n",
    "        \n",
    "        mlflow.log_metric(\"aupcr\", res)\n",
    "        tracking_url_type_store = urlparse(mlflow.get_tracking_uri()).scheme\n",
    "\n",
    "        mlflow.sklearn.log_model(logreg, \"model\", registered_model_name=\"LogisticRegTransformers\")"
   ]
  },
  {
   "cell_type": "code",
   "execution_count": 29,
   "id": "7c2bda9f",
   "metadata": {},
   "outputs": [
    {
     "data": {
      "text/plain": [
       "<ModelVersion: aliases=[], creation_timestamp=1682916696790, current_stage='None', description=None, last_updated_timestamp=1682916696790, name='RandomForestModel', run_id='daa5b65f04bb447cac3f9efaaa5fd636', run_link=None, source='file:///E:/Assigments/MSc%20Semester%202/AML%20-%20Raghav/Programming%20assignment%203/mlruns/0/daa5b65f04bb447cac3f9efaaa5fd636/artifacts/model', status='READY', status_message=None, tags={}, user_id=None, version=1>"
      ]
     },
     "execution_count": 29,
     "metadata": {},
     "output_type": "execute_result"
    }
   ],
   "source": [
    "mlflow.tracking.MlflowClient().get_model_version(\"RandomForestModel\",\"1\")"
   ]
  },
  {
   "cell_type": "code",
   "execution_count": null,
   "id": "39cc732a",
   "metadata": {},
   "outputs": [],
   "source": []
  }
 ],
 "metadata": {
  "kernelspec": {
   "display_name": "Python 3 (ipykernel)",
   "language": "python",
   "name": "python3"
  },
  "language_info": {
   "codemirror_mode": {
    "name": "ipython",
    "version": 3
   },
   "file_extension": ".py",
   "mimetype": "text/x-python",
   "name": "python",
   "nbconvert_exporter": "python",
   "pygments_lexer": "ipython3",
   "version": "3.11.0"
  }
 },
 "nbformat": 4,
 "nbformat_minor": 5
}
