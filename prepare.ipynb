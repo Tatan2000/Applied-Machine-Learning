{
 "cells": [
  {
   "cell_type": "code",
   "execution_count": 1,
   "id": "74790276",
   "metadata": {},
   "outputs": [],
   "source": [
    "#importing packages\n",
    "import pandas as pd\n",
    "import numpy as np\n",
    "from sklearn.model_selection import train_test_split"
   ]
  },
  {
   "cell_type": "code",
   "execution_count": 2,
   "id": "d27f7563",
   "metadata": {},
   "outputs": [],
   "source": [
    "#importing data\n",
    "with open(\"SMSSpamCollection\", \"r\") as f:\n",
    "    data = f.readlines()\n",
    "    \n",
    "labels = []\n",
    "messages = []\n",
    "\n",
    "# labels are ham/spam\n",
    "# messages are the sms text\n",
    "\n",
    "for line in data:\n",
    "    label, message = line.strip().split(\"\\t\")\n",
    "    messages.append(message)\n",
    "    labels.append(label)\n",
    "    \n"
   ]
  },
  {
   "cell_type": "code",
   "execution_count": 3,
   "id": "64fa9b91",
   "metadata": {},
   "outputs": [],
   "source": [
    "#one-hot encoding\n",
    "labels_set = set(labels)\n",
    "# labels_set is ['ham','spam']\n",
    "one_hot_labels = []\n",
    "# one_hot_labels is the list after tokenizing into 0/1\n",
    "for label in labels:\n",
    "    temp = [1 if label == unique_label else 0 for unique_label in labels_set]\n",
    "    one_hot_label = temp[0]\n",
    "    one_hot_labels.append(one_hot_label)\n",
    "\n",
    "one_hot_labels = np.array(one_hot_labels)\n"
   ]
  },
  {
   "cell_type": "code",
   "execution_count": 4,
   "id": "f9a6ab45",
   "metadata": {},
   "outputs": [],
   "source": [
    "df = pd.DataFrame(messages)\n",
    "df.columns = ['message']\n",
    "df['label'] = one_hot_labels"
   ]
  },
  {
   "cell_type": "code",
   "execution_count": 5,
   "id": "b6d5fd4a",
   "metadata": {},
   "outputs": [],
   "source": [
    "#train-test split\n",
    "train,rem = train_test_split(df, train_size=0.7)\n",
    "validation,test = train_test_split(rem, train_size=0.5)"
   ]
  },
  {
   "cell_type": "code",
   "execution_count": 6,
   "id": "48049423",
   "metadata": {},
   "outputs": [],
   "source": [
    "#saving data to file\n",
    "train.to_csv('train.csv',index=False)\n",
    "validation.to_csv('validation.csv',index=False)\n",
    "test.to_csv('test.csv',index=False)\n"
   ]
  }
 ],
 "metadata": {
  "kernelspec": {
   "display_name": "Python 3 (ipykernel)",
   "language": "python",
   "name": "python3"
  },
  "language_info": {
   "codemirror_mode": {
    "name": "ipython",
    "version": 3
   },
   "file_extension": ".py",
   "mimetype": "text/x-python",
   "name": "python",
   "nbconvert_exporter": "python",
   "pygments_lexer": "ipython3",
   "version": "3.11.0"
  }
 },
 "nbformat": 4,
 "nbformat_minor": 5
}
