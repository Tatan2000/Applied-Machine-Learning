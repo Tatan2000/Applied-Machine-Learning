{
 "cells": [
  {
   "cell_type": "code",
   "execution_count": null,
   "id": "7393f929",
   "metadata": {},
   "outputs": [],
   "source": [
    "import os\n",
    "import cv2\n",
    "\n",
    "import numpy as np\n",
    "import tensorflow as tf\n",
    "\n",
    "import matplotlib.pyplot as plt\n",
    "from sklearn.model_selection import train_test_split\n",
    "\n",
    "from tensorflow.keras.preprocessing.image import ImageDataGenerator"
   ]
  },
  {
   "cell_type": "code",
   "execution_count": null,
   "id": "1c6ee554",
   "metadata": {},
   "outputs": [],
   "source": [
    "from google.colab import drive\n",
    "drive.mount('/content/drive',force_remount=True)"
   ]
  },
  {
   "cell_type": "code",
   "execution_count": null,
   "id": "44ab77af",
   "metadata": {},
   "outputs": [],
   "source": [
    "data_train = '/content/drive/My Drive/image_data/train'\n",
    "\n",
    "data_validation = '/content/drive/My Drive/image_data/validation'"
   ]
  },
  {
   "cell_type": "code",
   "execution_count": null,
   "id": "d7a01a59",
   "metadata": {},
   "outputs": [],
   "source": [
    "training_data_generation = ImageDataGenerator(rescale = 1.0/255,shear_range=0.2,zoom_range=0.2)\n",
    "\n",
    "\n",
    "#Creating generator object of training images\n",
    "training_data_generator = training_data_generation.flow_from_directory(data_train, batch_size=32, shuffle=True, class_mode='categorical', target_size=(256, 256))"
   ]
  },
  {
   "cell_type": "code",
   "execution_count": null,
   "id": "c9b01bb7",
   "metadata": {},
   "outputs": [],
   "source": [
    "validation_data_generation = ImageDataGenerator(rescale = 1.0/255,shear_range=0.2,zoom_range=0.2)\n",
    "\n",
    "\n",
    "#Creating generator object of training images\n",
    "validation_data_generator = validation_data_generation.flow_from_directory(data_validation, batch_size=32, shuffle=True, class_mode='categorical', target_size=(256, 256))"
   ]
  },
  {
   "cell_type": "code",
   "execution_count": null,
   "id": "028cda87",
   "metadata": {},
   "outputs": [],
   "source": [
    "labels=['chicken','duck']"
   ]
  },
  {
   "cell_type": "code",
   "execution_count": null,
   "id": "dc3dc032",
   "metadata": {},
   "outputs": [],
   "source": [
    "from tensorflow.keras.models import Model\n",
    "from tensorflow.keras.layers import Conv2D, MaxPooling2D, Dense, Flatten, Dropout\n",
    "from tensorflow.keras.applications.vgg16 import VGG16,decode_predictions"
   ]
  },
  {
   "cell_type": "code",
   "execution_count": null,
   "id": "16bb56f7",
   "metadata": {},
   "outputs": [],
   "source": [
    "#We are using a VGG-16 model with \"imagenet\" weights\n",
    "model = VGG16(pooling='avg', weights='imagenet', include_top=False, input_shape=(256,256,3))"
   ]
  },
  {
   "cell_type": "code",
   "execution_count": null,
   "id": "c43913c3",
   "metadata": {},
   "outputs": [],
   "source": [
    "#Non-trained layers\n",
    "for layers in model.layers:\n",
    "    layers.trainable=False\n",
    "    \n",
    "\n",
    "last_layer = model.output\n",
    "\n",
    "\n",
    "\n",
    "vgg_new = Flatten()(last_layer)\n",
    "\n",
    "\n",
    "vgg_new = Dense(128, activation = 'softmax')(vgg_new)\n",
    "\n",
    "\n",
    "vgg_new = Dense(2, activation = 'softmax')(vgg_new)\n",
    "\n",
    "\n",
    "vgg16_final = Model(model.input, vgg_new)\n",
    "\n",
    "\n",
    "#Compiling the model\n",
    "vgg16_final.compile(loss = 'categorical_crossentropy', optimizer= 'adam', metrics=['accuracy'])\n",
    "\n",
    "     "
   ]
  },
  {
   "cell_type": "code",
   "execution_count": null,
   "id": "cf11c744",
   "metadata": {},
   "outputs": [],
   "source": [
    "vgg16_final.summary()"
   ]
  },
  {
   "cell_type": "code",
   "execution_count": null,
   "id": "4cf92903",
   "metadata": {},
   "outputs": [],
   "source": [
    "vgg16_final.fit(training_data_generator,steps_per_epoch=len(training_data_generator),epochs=3,validation_data=validation_data_generator,validation_steps=len(validation_data_generator))"
   ]
  },
  {
   "cell_type": "code",
   "execution_count": null,
   "id": "623034c0",
   "metadata": {},
   "outputs": [],
   "source": [
    "vgg16_final.save('vgg_classifier.h5')"
   ]
  },
  {
   "cell_type": "code",
   "execution_count": null,
   "id": "9faa7227",
   "metadata": {},
   "outputs": [],
   "source": [
    "from keras.models import load_model\n",
    "\n",
    "\n",
    "vgg_m=load_model('vgg_classifier.h5')"
   ]
  },
  {
   "cell_type": "markdown",
   "id": "581eec76",
   "metadata": {},
   "source": [
    "Testing"
   ]
  },
  {
   "cell_type": "code",
   "execution_count": null,
   "id": "282dbc20",
   "metadata": {},
   "outputs": [],
   "source": [
    "test ='/content/drive/My Drive/image_data/test/'"
   ]
  },
  {
   "cell_type": "code",
   "execution_count": null,
   "id": "5c35549f",
   "metadata": {},
   "outputs": [],
   "source": [
    "check=dict()\n",
    "check[\"image\"]=[]\n",
    "check[\"label\"]=[]\n",
    "for i in [\"chicken\",\"duck\"]:\n",
    "    for name in os.listdir(os.path.join(test,i)):\n",
    "        check[\"image\"].append(name)\n",
    "        check[\"label\"].append(i)"
   ]
  },
  {
   "cell_type": "code",
   "execution_count": null,
   "id": "377c4338",
   "metadata": {},
   "outputs": [],
   "source": [
    "import pandas as pd\n",
    "\n",
    "test_data=pd.DataFrame(check)"
   ]
  },
  {
   "cell_type": "code",
   "execution_count": null,
   "id": "0e06eb33",
   "metadata": {},
   "outputs": [],
   "source": [
    "from keras.preprocessing import image\n",
    "\n",
    "for i in range(len(test_data)): \n",
    "    image=os.path.join(test,test_data.loc[i,\"label\"],test_data.loc[i,\"image\"])\n",
    "    img_pred_1=tf.keras.utils.load_img(image,target_size=(256,256))\n",
    "    img_pred_1=tf.keras.utils.img_to_array(img_pred_1)\n",
    "    img_pred_1=np.expand_dims(img_pred_1, axis=0)\n",
    "    result= vgg16_final_model.predict(img_pred_1)\n",
    "    test_data.loc[i,\"test\"]=np.argmax(result)"
   ]
  },
  {
   "cell_type": "code",
   "execution_count": null,
   "id": "466c2de3",
   "metadata": {},
   "outputs": [],
   "source": [
    "for i in range(len(test_data)):\n",
    "    if test_data.loc[i,\"label\"]==\"chicken\":\n",
    "        test_data.loc[i,\"true\"]=0\n",
    "    else:\n",
    "        test_data.loc[i,\"true\"]=1"
   ]
  },
  {
   "cell_type": "code",
   "execution_count": null,
   "id": "8d5864ad",
   "metadata": {},
   "outputs": [],
   "source": [
    "from sklearn.metrics import classification_report\n",
    "\n",
    "print(classification_report(test_data[\"true\"], test_data[\"pred\"], target_names=[\"chicken\",\"duck\"]))"
   ]
  },
  {
   "cell_type": "code",
   "execution_count": null,
   "id": "3e73acc3",
   "metadata": {},
   "outputs": [],
   "source": []
  }
 ],
 "metadata": {
  "kernelspec": {
   "display_name": "Python 3 (ipykernel)",
   "language": "python",
   "name": "python3"
  },
  "language_info": {
   "codemirror_mode": {
    "name": "ipython",
    "version": 3
   },
   "file_extension": ".py",
   "mimetype": "text/x-python",
   "name": "python",
   "nbconvert_exporter": "python",
   "pygments_lexer": "ipython3",
   "version": "3.11.0"
  }
 },
 "nbformat": 4,
 "nbformat_minor": 5
}
